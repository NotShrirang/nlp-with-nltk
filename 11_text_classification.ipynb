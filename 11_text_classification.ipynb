{
 "cells": [
  {
   "cell_type": "markdown",
   "metadata": {},
   "source": [
    "## Text Classification\n",
    "\n",
    "Sentiment Analysis, Text classification with positive or negative cases."
   ]
  },
  {
   "cell_type": "code",
   "execution_count": 3,
   "metadata": {},
   "outputs": [],
   "source": [
    "import nltk\n",
    "import random\n",
    "from nltk.corpus import movie_reviews"
   ]
  },
  {
   "cell_type": "markdown",
   "metadata": {},
   "source": [
    "documents list is for creating training and testing sets."
   ]
  },
  {
   "cell_type": "code",
   "execution_count": 4,
   "metadata": {},
   "outputs": [
    {
     "name": "stdout",
     "output_type": "stream",
     "text": [
      "(['it', 'has', 'happened', 'again', '.', 'a', 'movie', 'that', 'is', 'well', 'scripted', ',', 'well', 'acted', ',', 'and', 'well', 'directed', '.', 'it', 'is', 'involving', ',', 'suspenseful', '.', '.', '.', 'it', 'even', 'has', 'an', 'unexpected', 'twist', 'at', 'the', 'end', 'that', 'packs', 'a', 'punch', 'like', 'a', 'blow', 'to', 'the', 'solar', 'plexus', '.', 'but', 'in', 'order', 'to', 'accept', 'its', 'premise', 'one', 'must', 'also', 'accept', 'a', 'spiritual', 'lie', '.', 'the', 'sixth', 'sense', 'is', 'that', 'movie', '.', 'starring', 'bruce', 'willis', '(', 'armageddon', ')', 'as', 'a', 'child', 'psychologist', 'and', 'haley', 'joel', 'osment', '(', 'forrest', 'gump', ')', 'as', 'a', 'troubled', 'youngster', ',', 'the', 'sixth', 'sense', 'is', 'more', 'spooky', 'than', 'scary', ',', 'though', 'it', 'does', 'contain', 'disturbing', 'images', 'designed', 'to', 'startle', '.', 'eight', '-', 'year', '-', 'old', 'cole', 'sear', '(', 'osment', ')', 'sees', 'dead', 'people', '.', 'not', 'just', 'in', 'dreams', '.', 'and', 'not', 'just', 'as', 'lifeless', 'bodies', '.', 'he', 'sees', 'them', 'walking', 'around', 'like', 'regular', 'people', '.', 'and', 'he', 'sees', 'them', 'all', 'the', 'time', '.', 'dr', '.', 'malcolm', 'crowe', '(', 'willis', ')', 'is', 'trying', 'to', 'help', 'him', '.', 'he', 'recognizes', 'in', 'cole', 'many', 'of', 'the', 'same', 'attributes', 'as', 'one', 'of', 'his', 'earlier', 'patients', 'whom', 'crowe', 'failed', ',', 'resulting', 'in', 'that', 'patient', 'shooting', 'crowe', 'before', 'turning', 'the', 'gun', 'on', 'himself', '.', 'if', 'crowe', 'could', 'manage', 'to', 'find', 'a', 'way', 'to', 'help', 'cole', ',', 'he', 'believes', 'he', 'just', 'might', 'be', 'able', 'to', 'put', 'his', 'own', 'demons', 'to', 'rest', '.', 'but', 'first', 'he', 'needs', 'to', 'gain', 'cole', \"'\", 's', 'trust', '.', 'the', 'boy', 'is', 'so', 'frightened', 'by', 'what', 'he', 'sees', ',', 'he', 'has', 'closed', 'himself', 'off', 'emotionally', ',', 'being', 'unwilling', 'to', 'tell', 'anyone', '.', '.', '.', 'not', 'crowe', ',', 'not', 'even', 'his', 'own', 'mother', '(', 'toni', 'collette', ',', 'clockwatchers', ')', '.', '.', '.', 'about', 'his', '\"', 'secrets', '.', '\"', 'crowe', 'begins', 'to', 'spend', 'more', 'and', 'more', 'time', 'with', 'him', ',', 'even', 'as', 'his', 'own', 'marriage', 'starts', 'to', 'dissolve', 'around', 'him', ',', 'his', 'wife', 'anna', '(', 'olivia', 'williams', ',', 'rushmore', ')', 'becoming', 'cold', 'and', 'distant', 'because', 'of', 'his', 'neglect', 'of', 'her', 'and', 'his', 'preoccupation', 'with', 'the', 'boy', '.', 'bruce', 'willis', 'underplays', 'his', 'role', ',', 'allowing', 'the', 'excellent', 'script', 'to', 'do', 'most', 'of', 'the', 'work', 'of', 'building', 'character', 'development', '.', 'crowe', 'moves', 'from', 'treating', 'a', 'troubled', 'boy', 'who', 'won', \"'\", 't', 'communicate', ',', 'to', 'treating', 'a', 'troubled', 'boy', 'who', 'is', 'having', 'hallucinations', ',', 'to', 'wondering', 'if', 'perhaps', 'there', 'isn', \"'\", 't', 'some', 'truth', 'behind', 'what', 'the', 'boy', 'sees', '.', 'mr', '.', 'willis', 'does', 'a', 'serviceable', 'job', ',', 'letting', 'the', 'focus', 'remain', 'on', 'the', 'story', 'instead', 'of', 'on', 'his', 'familiar', 'action', 'hero', 'screen', 'persona', '.', 'eleven', '-', 'year', '-', 'old', 'haley', 'joel', 'osment', 'manages', 'to', 'impress', 'us', 'with', 'his', 'performance', '.', 'he', 'demonstrates', 'an', 'amazing', 'amount', 'of', 'self', '-', 'composure', 'as', 'well', 'as', 'an', 'ability', 'to', 'play', 'nuances', 'in', 'a', 'complex', 'character', 'as', 'if', 'he', 'were', 'a', 'seasoned', 'pro', '.', 'it', 'is', 'fine', 'work', 'for', 'one', 'of', 'such', 'a', 'tender', 'age', '.', 'keep', 'your', 'eye', 'on', 'this', 'young', 'man', '.', 'the', 'supporting', 'cast', 'is', 'also', 'quite', 'effective', '.', 'toni', 'collette', ',', 'as', 'the', 'confused', ',', 'frightened', ',', 'and', 'frustrated', 'mother', 'who', 'can', \"'\", 't', 'understand', 'what', 'is', 'happening', 'to', 'her', 'child', ';', 'olivia', 'williams', ',', 'as', 'crowe', \"'\", 's', 'once', 'loving', 'wife', 'who', 'is', 'shutting', 'down', 'emotionally', 'due', 'to', 'the', 'lack', 'of', 'attention', 'from', 'her', 'husband', ';', 'and', 'donnie', 'wahlberg', '(', 'ransom', ')', 'as', 'crowe', \"'\", 's', 'ex', '-', 'patient', ',', 'now', 'grown', ',', 'who', 'illustrates', 'his', 'doctor', \"'\", 's', 'failure', 'to', 'help', 'him', 'in', 'the', 'most', 'vivid', 'terms', 'imaginable', '.', 'twenty', '-', 'eight', 'year', 'old', 'm', '.', 'night', 'shyamalan', '(', 'wide', 'awake', ')', 'directed', 'his', 'own', 'script', ',', 'maintaining', 'a', 'proper', 'tension', 'throughout', 'the', 'film', 'and', 'crafting', 'the', 'storytelling', 'so', 'expertly', 'that', 'the', 'film', \"'\", 's', 'full', 'impact', 'is', 'not', 'reached', 'until', 'its', 'final', 'moments', ',', 'when', 'a', 'surprising', 'revelation', 'forces', 'a', 'reevaluation', 'of', 'all', 'that', 'preceded', 'it', '.', 'it', 'is', 'a', 'rare', 'movie', 'which', 'manages', 'to', 'pull', 'that', 'off', 'and', 'mr', '.', 'shyamalan', ',', 'as', 'the', 'one', 'responsible', ',', 'is', 'certainly', 'to', 'be', 'commended', '.', 'in', 'giving', 'the', 'sixth', 'sense', 'a', 'favorable', '\"', 'three', 'star', '\"', 'review', 'for', 'its', 'craftsmanship', 'and', 'artistic', 'merit', ',', 'i', 'must', 'also', 'point', 'out', 'that', ',', 'spiritually', 'speaking', ',', 'the', 'film', 'is', 'highly', 'misleading', '.', 'there', 'is', 'no', 'scriptural', 'foundation', 'upon', 'which', 'to', 'base', 'a', 'belief', 'in', 'ghosts', 'or', 'the', '\"', 'living', 'dead', '.', '\"', 'the', 'concept', 'of', 'death', 'being', 'a', 'doorway', 'to', 'another', 'plane', 'of', 'existence', 'is', 'a', 'devilish', 'lie', 'that', 'has', 'been', 'around', 'as', 'long', 'as', 'man', 'himself', '.', 'the', 'first', 'lie', 'recorded', 'in', 'the', 'bible', 'was', 'devised', 'by', 'the', 'serpent', 'who', 'assured', 'eve', ',', '\"', 'thou', 'shall', 'not', 'surely', 'die', ',', '\"', 'a', 'direct', 'contradiction', 'of', 'god', \"'\", 's', 'admonition', '.', 'that', 'same', 'lie', 'has', 'been', 'perpetuated', 'ad', 'infinitum', 'throughout', 'the', 'ages', '.', 'scriptures', 'do', 'speak', 'of', 'a', 'time', 'when', 'the', 'dead', 'shall', 'rise', 'but', 'that', 'wonderful', 'demonstration', 'of', 'victory', 'over', 'death', 'will', 'not', 'commence', 'until', 'after', 'the', 'second', 'coming', 'of', 'christ', '.', '.', '.', 'an', 'event', 'which', 'has', 'not', 'yet', 'occurred', '.', 'therefore', ',', 'the', 'dead', 'remain', 'in', 'a', 'state', 'of', 'oblivion', ',', 'having', 'no', 'consciousness', ',', 'until', 'that', 'long', '-', 'awaited', 'time', 'when', 'the', 'final', 'trump', 'shall', 'sound', '.', 'and', 'then', ',', 'you', \"'\", 'll', 'need', 'six', 'senses', 'to', 'register', 'all', 'the', 'joy', 'and', 'rejoicing', 'that', 'will', 'resound', 'throughout', 'the', 'heavens', '.'], 'pos')\n"
     ]
    }
   ],
   "source": [
    "documents = [(list(movie_reviews.words(fileid)), category)\n",
    "                for category in movie_reviews.categories()\n",
    "                for fileid in movie_reviews.fileids(category)]\n",
    "\n",
    "random.shuffle(documents)\n",
    "\n",
    "print(documents[1])"
   ]
  },
  {
   "cell_type": "markdown",
   "metadata": {},
   "source": [
    "_(Above content can differ as it is randomized.)_"
   ]
  },
  {
   "cell_type": "markdown",
   "metadata": {},
   "source": [
    "### Frequency Distribution of words"
   ]
  },
  {
   "cell_type": "code",
   "execution_count": 7,
   "metadata": {},
   "outputs": [
    {
     "name": "stdout",
     "output_type": "stream",
     "text": [
      "[(',', 77717), ('the', 76529), ('.', 65876), ('a', 38106), ('and', 35576), ('of', 34123), ('to', 31937), (\"'\", 30585), ('is', 25195), ('in', 21822), ('s', 18513), ('\"', 17612), ('it', 16107), ('that', 15924), ('-', 15595)]\n"
     ]
    }
   ],
   "source": [
    "all_words = []\n",
    "for w in movie_reviews.words():\n",
    "    all_words.append(w.lower())\n",
    "\n",
    "all_words = nltk.FreqDist(all_words)\n",
    "print(all_words.most_common(15))"
   ]
  },
  {
   "cell_type": "code",
   "execution_count": 8,
   "metadata": {},
   "outputs": [
    {
     "name": "stdout",
     "output_type": "stream",
     "text": [
      "253\n"
     ]
    }
   ],
   "source": [
    "print(all_words[\"stupid\"]) "
   ]
  },
  {
   "cell_type": "markdown",
   "metadata": {},
   "source": [
    "_(The word stupid occurs 253 times in the movie reviews.)_"
   ]
  }
 ],
 "metadata": {
  "kernelspec": {
   "display_name": "Python 3.10.4 64-bit",
   "language": "python",
   "name": "python3"
  },
  "language_info": {
   "codemirror_mode": {
    "name": "ipython",
    "version": 3
   },
   "file_extension": ".py",
   "mimetype": "text/x-python",
   "name": "python",
   "nbconvert_exporter": "python",
   "pygments_lexer": "ipython3",
   "version": "3.10.4"
  },
  "orig_nbformat": 4,
  "vscode": {
   "interpreter": {
    "hash": "e3b727e1c20c3b9375c3bb34eea6b619aee08d21c950bda29b90fca88b97f567"
   }
  }
 },
 "nbformat": 4,
 "nbformat_minor": 2
}
